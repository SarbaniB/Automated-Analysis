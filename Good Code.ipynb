{
 "cells": [
  {
   "cell_type": "code",
   "execution_count": null,
   "metadata": {},
   "outputs": [],
   "source": [
    "import requests\n",
    "import traceback\n",
    "import json\n",
    "import ticketpy\n",
    "\n",
    "CONSUMER_KEY = 'CCrpA1opzt0UzGhESq2McuZyAT1BPZ77'\n",
    "CONSUMER_SECRET='o91ZGmPBXpFkFlOT'\n",
    "\n",
    "punc=[\",\",\".\",\"!\",\":\"]\n",
    "type=[\"social\",\"outdoor_sport\",\"indoor_sport\",\"holiday\",\"emergency\",\"mobile\"]\n",
    "location=[(\"Soldier Field\",1,\"outdoor\"),(\"United Center\",12,\"indoor\"),(\"McCormick Place\",1,\"indoor\"),(\"Guaranteed Rate Field\",9,\"outdoor\"),(\"The Chicago Theatre\",18,\"indoor\"),(\"Wintrust Arena\",1,\"indoor\"),(\"Wrigley Field\",19,\"outdoor\"),(\"Navy Pier\",18,\"indoor\"),(\"Millennium Park\",1,\"outdoor\"),(\"Goodman Theatre Albert Theatre\",18,\"indoor\"),(\"Cadillac Palace Theatre\",18,\"indoor\"),(\"Oriental Theatre\",18,\"indoor\"),(\"CIBC Theatre\",18,\"indoor\")]\n",
    "venues=['Soldier Field','United Center','McCormick Place','Guaranteed Rate Field','The Chicago Theatre','Wintrust Arena','Wrigley Field','Navy Pier','Millennium Park','Goodman Theatre Albert Theatre','Cadillac Palace Theatre','Oriental Theatre','CIBC Theatre']\n",
    "monthsNum={1:\"January\",2:\"February\",3:\"March\",4:\"April\",5:\"May\",6:\"June\",7:\"July\",8:\"August\",9:\"September\",10:\"October\",11:\"November\",12:\"December\"}\n",
    "seatGeekEvents=[]\n",
    "\n",
    "pullVenues = \"https://app.ticketmaster.com/discovery/v2/events.json?dmaId=249&apikey=\" + CONSUMER_KEY\n",
    "\n",
    "#pages = tm_client.events.find(state_code='IL')\n",
    "toSearch=[]\n",
    "venPull = requests.get(pullVenues) #query database\n",
    "venJson=venPull.json() #convert to Json\n",
    "eventsGot=venJson[\"_embedded\"] #store all events info as keyable values\n",
    "eventsPulled = eventsGot[\"events\"]\n",
    "for event in eventsPulled:\n",
    "        if event[\"name\"] in events: #if venue is one we monitor add to search list\n",
    "            toSearch.append((event['name'],event['id']))\n",
    "            #print(ven['name'],ven['id'])\n",
    "print(\"Venues Pulled\")\n",
    "\n",
    "#the values of the file work for the same thing"
   ]
  }
 ],
 "metadata": {
  "kernelspec": {
   "display_name": "Python 3",
   "language": "python",
   "name": "python3"
  },
  "language_info": {
   "codemirror_mode": {
    "name": "ipython",
    "version": 3
   },
   "file_extension": ".py",
   "mimetype": "text/x-python",
   "name": "python",
   "nbconvert_exporter": "python",
   "pygments_lexer": "ipython3",
   "version": "3.6.5"
  }
 },
 "nbformat": 4,
 "nbformat_minor": 2
}
